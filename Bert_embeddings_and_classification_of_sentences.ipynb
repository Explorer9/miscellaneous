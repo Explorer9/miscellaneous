{
  "nbformat": 4,
  "nbformat_minor": 0,
  "metadata": {
    "colab": {
      "name": "Bert_embeddings and classification of sentences.ipynb",
      "provenance": [],
      "collapsed_sections": [],
      "toc_visible": true,
      "include_colab_link": true
    },
    "kernelspec": {
      "name": "python3",
      "display_name": "Python 3"
    },
    "widgets": {
      "application/vnd.jupyter.widget-state+json": {
        "3889f3c5268f49ca983e132c972f0e3f": {
          "model_module": "@jupyter-widgets/controls",
          "model_name": "HBoxModel",
          "state": {
            "_view_name": "HBoxView",
            "_dom_classes": [],
            "_model_name": "HBoxModel",
            "_view_module": "@jupyter-widgets/controls",
            "_model_module_version": "1.5.0",
            "_view_count": null,
            "_view_module_version": "1.5.0",
            "box_style": "",
            "layout": "IPY_MODEL_a37450fe163548b6a7e8825b00094036",
            "_model_module": "@jupyter-widgets/controls",
            "children": [
              "IPY_MODEL_5e85d0b61dc64b8990266238d965aad8",
              "IPY_MODEL_f1888d53487a4d4193e826d03138077e"
            ]
          }
        },
        "a37450fe163548b6a7e8825b00094036": {
          "model_module": "@jupyter-widgets/base",
          "model_name": "LayoutModel",
          "state": {
            "_view_name": "LayoutView",
            "grid_template_rows": null,
            "right": null,
            "justify_content": null,
            "_view_module": "@jupyter-widgets/base",
            "overflow": null,
            "_model_module_version": "1.2.0",
            "_view_count": null,
            "flex_flow": null,
            "width": null,
            "min_width": null,
            "border": null,
            "align_items": null,
            "bottom": null,
            "_model_module": "@jupyter-widgets/base",
            "top": null,
            "grid_column": null,
            "overflow_y": null,
            "overflow_x": null,
            "grid_auto_flow": null,
            "grid_area": null,
            "grid_template_columns": null,
            "flex": null,
            "_model_name": "LayoutModel",
            "justify_items": null,
            "grid_row": null,
            "max_height": null,
            "align_content": null,
            "visibility": null,
            "align_self": null,
            "height": null,
            "min_height": null,
            "padding": null,
            "grid_auto_rows": null,
            "grid_gap": null,
            "max_width": null,
            "order": null,
            "_view_module_version": "1.2.0",
            "grid_template_areas": null,
            "object_position": null,
            "object_fit": null,
            "grid_auto_columns": null,
            "margin": null,
            "display": null,
            "left": null
          }
        },
        "5e85d0b61dc64b8990266238d965aad8": {
          "model_module": "@jupyter-widgets/controls",
          "model_name": "FloatProgressModel",
          "state": {
            "_view_name": "ProgressView",
            "style": "IPY_MODEL_30c8ad3be00240f3a839ca139e7fcddb",
            "_dom_classes": [],
            "description": "Downloading: 100%",
            "_model_name": "FloatProgressModel",
            "bar_style": "success",
            "max": 433,
            "_view_module": "@jupyter-widgets/controls",
            "_model_module_version": "1.5.0",
            "value": 433,
            "_view_count": null,
            "_view_module_version": "1.5.0",
            "orientation": "horizontal",
            "min": 0,
            "description_tooltip": null,
            "_model_module": "@jupyter-widgets/controls",
            "layout": "IPY_MODEL_91b016fbd36e481e9cc1d352332f3690"
          }
        },
        "f1888d53487a4d4193e826d03138077e": {
          "model_module": "@jupyter-widgets/controls",
          "model_name": "HTMLModel",
          "state": {
            "_view_name": "HTMLView",
            "style": "IPY_MODEL_bd70282c8588480db3f656fa5767afcb",
            "_dom_classes": [],
            "description": "",
            "_model_name": "HTMLModel",
            "placeholder": "​",
            "_view_module": "@jupyter-widgets/controls",
            "_model_module_version": "1.5.0",
            "value": " 433/433 [00:00&lt;00:00, 1.01kB/s]",
            "_view_count": null,
            "_view_module_version": "1.5.0",
            "description_tooltip": null,
            "_model_module": "@jupyter-widgets/controls",
            "layout": "IPY_MODEL_a714df62ca5b4802b0f7be822b2891b7"
          }
        },
        "30c8ad3be00240f3a839ca139e7fcddb": {
          "model_module": "@jupyter-widgets/controls",
          "model_name": "ProgressStyleModel",
          "state": {
            "_view_name": "StyleView",
            "_model_name": "ProgressStyleModel",
            "description_width": "initial",
            "_view_module": "@jupyter-widgets/base",
            "_model_module_version": "1.5.0",
            "_view_count": null,
            "_view_module_version": "1.2.0",
            "bar_color": null,
            "_model_module": "@jupyter-widgets/controls"
          }
        },
        "91b016fbd36e481e9cc1d352332f3690": {
          "model_module": "@jupyter-widgets/base",
          "model_name": "LayoutModel",
          "state": {
            "_view_name": "LayoutView",
            "grid_template_rows": null,
            "right": null,
            "justify_content": null,
            "_view_module": "@jupyter-widgets/base",
            "overflow": null,
            "_model_module_version": "1.2.0",
            "_view_count": null,
            "flex_flow": null,
            "width": null,
            "min_width": null,
            "border": null,
            "align_items": null,
            "bottom": null,
            "_model_module": "@jupyter-widgets/base",
            "top": null,
            "grid_column": null,
            "overflow_y": null,
            "overflow_x": null,
            "grid_auto_flow": null,
            "grid_area": null,
            "grid_template_columns": null,
            "flex": null,
            "_model_name": "LayoutModel",
            "justify_items": null,
            "grid_row": null,
            "max_height": null,
            "align_content": null,
            "visibility": null,
            "align_self": null,
            "height": null,
            "min_height": null,
            "padding": null,
            "grid_auto_rows": null,
            "grid_gap": null,
            "max_width": null,
            "order": null,
            "_view_module_version": "1.2.0",
            "grid_template_areas": null,
            "object_position": null,
            "object_fit": null,
            "grid_auto_columns": null,
            "margin": null,
            "display": null,
            "left": null
          }
        },
        "bd70282c8588480db3f656fa5767afcb": {
          "model_module": "@jupyter-widgets/controls",
          "model_name": "DescriptionStyleModel",
          "state": {
            "_view_name": "StyleView",
            "_model_name": "DescriptionStyleModel",
            "description_width": "",
            "_view_module": "@jupyter-widgets/base",
            "_model_module_version": "1.5.0",
            "_view_count": null,
            "_view_module_version": "1.2.0",
            "_model_module": "@jupyter-widgets/controls"
          }
        },
        "a714df62ca5b4802b0f7be822b2891b7": {
          "model_module": "@jupyter-widgets/base",
          "model_name": "LayoutModel",
          "state": {
            "_view_name": "LayoutView",
            "grid_template_rows": null,
            "right": null,
            "justify_content": null,
            "_view_module": "@jupyter-widgets/base",
            "overflow": null,
            "_model_module_version": "1.2.0",
            "_view_count": null,
            "flex_flow": null,
            "width": null,
            "min_width": null,
            "border": null,
            "align_items": null,
            "bottom": null,
            "_model_module": "@jupyter-widgets/base",
            "top": null,
            "grid_column": null,
            "overflow_y": null,
            "overflow_x": null,
            "grid_auto_flow": null,
            "grid_area": null,
            "grid_template_columns": null,
            "flex": null,
            "_model_name": "LayoutModel",
            "justify_items": null,
            "grid_row": null,
            "max_height": null,
            "align_content": null,
            "visibility": null,
            "align_self": null,
            "height": null,
            "min_height": null,
            "padding": null,
            "grid_auto_rows": null,
            "grid_gap": null,
            "max_width": null,
            "order": null,
            "_view_module_version": "1.2.0",
            "grid_template_areas": null,
            "object_position": null,
            "object_fit": null,
            "grid_auto_columns": null,
            "margin": null,
            "display": null,
            "left": null
          }
        },
        "704e656687fe477c885996d408fea3d6": {
          "model_module": "@jupyter-widgets/controls",
          "model_name": "HBoxModel",
          "state": {
            "_view_name": "HBoxView",
            "_dom_classes": [],
            "_model_name": "HBoxModel",
            "_view_module": "@jupyter-widgets/controls",
            "_model_module_version": "1.5.0",
            "_view_count": null,
            "_view_module_version": "1.5.0",
            "box_style": "",
            "layout": "IPY_MODEL_279aa6d454484ee0bec80d8f5301f57b",
            "_model_module": "@jupyter-widgets/controls",
            "children": [
              "IPY_MODEL_da8167e4102e4983ab07532d3f425f88",
              "IPY_MODEL_bafe351f0a424523b1a8a66f792fea92"
            ]
          }
        },
        "279aa6d454484ee0bec80d8f5301f57b": {
          "model_module": "@jupyter-widgets/base",
          "model_name": "LayoutModel",
          "state": {
            "_view_name": "LayoutView",
            "grid_template_rows": null,
            "right": null,
            "justify_content": null,
            "_view_module": "@jupyter-widgets/base",
            "overflow": null,
            "_model_module_version": "1.2.0",
            "_view_count": null,
            "flex_flow": null,
            "width": null,
            "min_width": null,
            "border": null,
            "align_items": null,
            "bottom": null,
            "_model_module": "@jupyter-widgets/base",
            "top": null,
            "grid_column": null,
            "overflow_y": null,
            "overflow_x": null,
            "grid_auto_flow": null,
            "grid_area": null,
            "grid_template_columns": null,
            "flex": null,
            "_model_name": "LayoutModel",
            "justify_items": null,
            "grid_row": null,
            "max_height": null,
            "align_content": null,
            "visibility": null,
            "align_self": null,
            "height": null,
            "min_height": null,
            "padding": null,
            "grid_auto_rows": null,
            "grid_gap": null,
            "max_width": null,
            "order": null,
            "_view_module_version": "1.2.0",
            "grid_template_areas": null,
            "object_position": null,
            "object_fit": null,
            "grid_auto_columns": null,
            "margin": null,
            "display": null,
            "left": null
          }
        },
        "da8167e4102e4983ab07532d3f425f88": {
          "model_module": "@jupyter-widgets/controls",
          "model_name": "FloatProgressModel",
          "state": {
            "_view_name": "ProgressView",
            "style": "IPY_MODEL_cb59938221ac474e86933792b7a36b6a",
            "_dom_classes": [],
            "description": "Downloading: 100%",
            "_model_name": "FloatProgressModel",
            "bar_style": "success",
            "max": 440473133,
            "_view_module": "@jupyter-widgets/controls",
            "_model_module_version": "1.5.0",
            "value": 440473133,
            "_view_count": null,
            "_view_module_version": "1.5.0",
            "orientation": "horizontal",
            "min": 0,
            "description_tooltip": null,
            "_model_module": "@jupyter-widgets/controls",
            "layout": "IPY_MODEL_8d43b08f4ee94691a60c11c2730c5679"
          }
        },
        "bafe351f0a424523b1a8a66f792fea92": {
          "model_module": "@jupyter-widgets/controls",
          "model_name": "HTMLModel",
          "state": {
            "_view_name": "HTMLView",
            "style": "IPY_MODEL_290c24a60da94b15a9f496c259e0bc09",
            "_dom_classes": [],
            "description": "",
            "_model_name": "HTMLModel",
            "placeholder": "​",
            "_view_module": "@jupyter-widgets/controls",
            "_model_module_version": "1.5.0",
            "value": " 440M/440M [07:08&lt;00:00, 1.03MB/s]",
            "_view_count": null,
            "_view_module_version": "1.5.0",
            "description_tooltip": null,
            "_model_module": "@jupyter-widgets/controls",
            "layout": "IPY_MODEL_89f215042b47408c98364e6c95afaeb7"
          }
        },
        "cb59938221ac474e86933792b7a36b6a": {
          "model_module": "@jupyter-widgets/controls",
          "model_name": "ProgressStyleModel",
          "state": {
            "_view_name": "StyleView",
            "_model_name": "ProgressStyleModel",
            "description_width": "initial",
            "_view_module": "@jupyter-widgets/base",
            "_model_module_version": "1.5.0",
            "_view_count": null,
            "_view_module_version": "1.2.0",
            "bar_color": null,
            "_model_module": "@jupyter-widgets/controls"
          }
        },
        "8d43b08f4ee94691a60c11c2730c5679": {
          "model_module": "@jupyter-widgets/base",
          "model_name": "LayoutModel",
          "state": {
            "_view_name": "LayoutView",
            "grid_template_rows": null,
            "right": null,
            "justify_content": null,
            "_view_module": "@jupyter-widgets/base",
            "overflow": null,
            "_model_module_version": "1.2.0",
            "_view_count": null,
            "flex_flow": null,
            "width": null,
            "min_width": null,
            "border": null,
            "align_items": null,
            "bottom": null,
            "_model_module": "@jupyter-widgets/base",
            "top": null,
            "grid_column": null,
            "overflow_y": null,
            "overflow_x": null,
            "grid_auto_flow": null,
            "grid_area": null,
            "grid_template_columns": null,
            "flex": null,
            "_model_name": "LayoutModel",
            "justify_items": null,
            "grid_row": null,
            "max_height": null,
            "align_content": null,
            "visibility": null,
            "align_self": null,
            "height": null,
            "min_height": null,
            "padding": null,
            "grid_auto_rows": null,
            "grid_gap": null,
            "max_width": null,
            "order": null,
            "_view_module_version": "1.2.0",
            "grid_template_areas": null,
            "object_position": null,
            "object_fit": null,
            "grid_auto_columns": null,
            "margin": null,
            "display": null,
            "left": null
          }
        },
        "290c24a60da94b15a9f496c259e0bc09": {
          "model_module": "@jupyter-widgets/controls",
          "model_name": "DescriptionStyleModel",
          "state": {
            "_view_name": "StyleView",
            "_model_name": "DescriptionStyleModel",
            "description_width": "",
            "_view_module": "@jupyter-widgets/base",
            "_model_module_version": "1.5.0",
            "_view_count": null,
            "_view_module_version": "1.2.0",
            "_model_module": "@jupyter-widgets/controls"
          }
        },
        "89f215042b47408c98364e6c95afaeb7": {
          "model_module": "@jupyter-widgets/base",
          "model_name": "LayoutModel",
          "state": {
            "_view_name": "LayoutView",
            "grid_template_rows": null,
            "right": null,
            "justify_content": null,
            "_view_module": "@jupyter-widgets/base",
            "overflow": null,
            "_model_module_version": "1.2.0",
            "_view_count": null,
            "flex_flow": null,
            "width": null,
            "min_width": null,
            "border": null,
            "align_items": null,
            "bottom": null,
            "_model_module": "@jupyter-widgets/base",
            "top": null,
            "grid_column": null,
            "overflow_y": null,
            "overflow_x": null,
            "grid_auto_flow": null,
            "grid_area": null,
            "grid_template_columns": null,
            "flex": null,
            "_model_name": "LayoutModel",
            "justify_items": null,
            "grid_row": null,
            "max_height": null,
            "align_content": null,
            "visibility": null,
            "align_self": null,
            "height": null,
            "min_height": null,
            "padding": null,
            "grid_auto_rows": null,
            "grid_gap": null,
            "max_width": null,
            "order": null,
            "_view_module_version": "1.2.0",
            "grid_template_areas": null,
            "object_position": null,
            "object_fit": null,
            "grid_auto_columns": null,
            "margin": null,
            "display": null,
            "left": null
          }
        },
        "5724e0ff65584f238a6a767e86059d82": {
          "model_module": "@jupyter-widgets/controls",
          "model_name": "HBoxModel",
          "state": {
            "_view_name": "HBoxView",
            "_dom_classes": [],
            "_model_name": "HBoxModel",
            "_view_module": "@jupyter-widgets/controls",
            "_model_module_version": "1.5.0",
            "_view_count": null,
            "_view_module_version": "1.5.0",
            "box_style": "",
            "layout": "IPY_MODEL_87cccf384acf40b8b33516b953fc4037",
            "_model_module": "@jupyter-widgets/controls",
            "children": [
              "IPY_MODEL_fb00173599124d98b0924a94ed3fec8c",
              "IPY_MODEL_fb354a899f9e4330ac3256e65d8d0c32"
            ]
          }
        },
        "87cccf384acf40b8b33516b953fc4037": {
          "model_module": "@jupyter-widgets/base",
          "model_name": "LayoutModel",
          "state": {
            "_view_name": "LayoutView",
            "grid_template_rows": null,
            "right": null,
            "justify_content": null,
            "_view_module": "@jupyter-widgets/base",
            "overflow": null,
            "_model_module_version": "1.2.0",
            "_view_count": null,
            "flex_flow": null,
            "width": null,
            "min_width": null,
            "border": null,
            "align_items": null,
            "bottom": null,
            "_model_module": "@jupyter-widgets/base",
            "top": null,
            "grid_column": null,
            "overflow_y": null,
            "overflow_x": null,
            "grid_auto_flow": null,
            "grid_area": null,
            "grid_template_columns": null,
            "flex": null,
            "_model_name": "LayoutModel",
            "justify_items": null,
            "grid_row": null,
            "max_height": null,
            "align_content": null,
            "visibility": null,
            "align_self": null,
            "height": null,
            "min_height": null,
            "padding": null,
            "grid_auto_rows": null,
            "grid_gap": null,
            "max_width": null,
            "order": null,
            "_view_module_version": "1.2.0",
            "grid_template_areas": null,
            "object_position": null,
            "object_fit": null,
            "grid_auto_columns": null,
            "margin": null,
            "display": null,
            "left": null
          }
        },
        "fb00173599124d98b0924a94ed3fec8c": {
          "model_module": "@jupyter-widgets/controls",
          "model_name": "FloatProgressModel",
          "state": {
            "_view_name": "ProgressView",
            "style": "IPY_MODEL_2154a558a7e8418fbb76641a93c42151",
            "_dom_classes": [],
            "description": "Downloading: 100%",
            "_model_name": "FloatProgressModel",
            "bar_style": "success",
            "max": 231508,
            "_view_module": "@jupyter-widgets/controls",
            "_model_module_version": "1.5.0",
            "value": 231508,
            "_view_count": null,
            "_view_module_version": "1.5.0",
            "orientation": "horizontal",
            "min": 0,
            "description_tooltip": null,
            "_model_module": "@jupyter-widgets/controls",
            "layout": "IPY_MODEL_be1bc014114746269cf070caa7463091"
          }
        },
        "fb354a899f9e4330ac3256e65d8d0c32": {
          "model_module": "@jupyter-widgets/controls",
          "model_name": "HTMLModel",
          "state": {
            "_view_name": "HTMLView",
            "style": "IPY_MODEL_3c981a07202e48b8a1d7aa3e15393256",
            "_dom_classes": [],
            "description": "",
            "_model_name": "HTMLModel",
            "placeholder": "​",
            "_view_module": "@jupyter-widgets/controls",
            "_model_module_version": "1.5.0",
            "value": " 232k/232k [00:00&lt;00:00, 245kB/s]",
            "_view_count": null,
            "_view_module_version": "1.5.0",
            "description_tooltip": null,
            "_model_module": "@jupyter-widgets/controls",
            "layout": "IPY_MODEL_7fc80ec41871403b85db5343bd9c25df"
          }
        },
        "2154a558a7e8418fbb76641a93c42151": {
          "model_module": "@jupyter-widgets/controls",
          "model_name": "ProgressStyleModel",
          "state": {
            "_view_name": "StyleView",
            "_model_name": "ProgressStyleModel",
            "description_width": "initial",
            "_view_module": "@jupyter-widgets/base",
            "_model_module_version": "1.5.0",
            "_view_count": null,
            "_view_module_version": "1.2.0",
            "bar_color": null,
            "_model_module": "@jupyter-widgets/controls"
          }
        },
        "be1bc014114746269cf070caa7463091": {
          "model_module": "@jupyter-widgets/base",
          "model_name": "LayoutModel",
          "state": {
            "_view_name": "LayoutView",
            "grid_template_rows": null,
            "right": null,
            "justify_content": null,
            "_view_module": "@jupyter-widgets/base",
            "overflow": null,
            "_model_module_version": "1.2.0",
            "_view_count": null,
            "flex_flow": null,
            "width": null,
            "min_width": null,
            "border": null,
            "align_items": null,
            "bottom": null,
            "_model_module": "@jupyter-widgets/base",
            "top": null,
            "grid_column": null,
            "overflow_y": null,
            "overflow_x": null,
            "grid_auto_flow": null,
            "grid_area": null,
            "grid_template_columns": null,
            "flex": null,
            "_model_name": "LayoutModel",
            "justify_items": null,
            "grid_row": null,
            "max_height": null,
            "align_content": null,
            "visibility": null,
            "align_self": null,
            "height": null,
            "min_height": null,
            "padding": null,
            "grid_auto_rows": null,
            "grid_gap": null,
            "max_width": null,
            "order": null,
            "_view_module_version": "1.2.0",
            "grid_template_areas": null,
            "object_position": null,
            "object_fit": null,
            "grid_auto_columns": null,
            "margin": null,
            "display": null,
            "left": null
          }
        },
        "3c981a07202e48b8a1d7aa3e15393256": {
          "model_module": "@jupyter-widgets/controls",
          "model_name": "DescriptionStyleModel",
          "state": {
            "_view_name": "StyleView",
            "_model_name": "DescriptionStyleModel",
            "description_width": "",
            "_view_module": "@jupyter-widgets/base",
            "_model_module_version": "1.5.0",
            "_view_count": null,
            "_view_module_version": "1.2.0",
            "_model_module": "@jupyter-widgets/controls"
          }
        },
        "7fc80ec41871403b85db5343bd9c25df": {
          "model_module": "@jupyter-widgets/base",
          "model_name": "LayoutModel",
          "state": {
            "_view_name": "LayoutView",
            "grid_template_rows": null,
            "right": null,
            "justify_content": null,
            "_view_module": "@jupyter-widgets/base",
            "overflow": null,
            "_model_module_version": "1.2.0",
            "_view_count": null,
            "flex_flow": null,
            "width": null,
            "min_width": null,
            "border": null,
            "align_items": null,
            "bottom": null,
            "_model_module": "@jupyter-widgets/base",
            "top": null,
            "grid_column": null,
            "overflow_y": null,
            "overflow_x": null,
            "grid_auto_flow": null,
            "grid_area": null,
            "grid_template_columns": null,
            "flex": null,
            "_model_name": "LayoutModel",
            "justify_items": null,
            "grid_row": null,
            "max_height": null,
            "align_content": null,
            "visibility": null,
            "align_self": null,
            "height": null,
            "min_height": null,
            "padding": null,
            "grid_auto_rows": null,
            "grid_gap": null,
            "max_width": null,
            "order": null,
            "_view_module_version": "1.2.0",
            "grid_template_areas": null,
            "object_position": null,
            "object_fit": null,
            "grid_auto_columns": null,
            "margin": null,
            "display": null,
            "left": null
          }
        },
        "c2c78f4416e04a6f8f0ad366479c124f": {
          "model_module": "@jupyter-widgets/controls",
          "model_name": "HBoxModel",
          "state": {
            "_view_name": "HBoxView",
            "_dom_classes": [],
            "_model_name": "HBoxModel",
            "_view_module": "@jupyter-widgets/controls",
            "_model_module_version": "1.5.0",
            "_view_count": null,
            "_view_module_version": "1.5.0",
            "box_style": "",
            "layout": "IPY_MODEL_4648ff5060d340ad8e58f70390df85af",
            "_model_module": "@jupyter-widgets/controls",
            "children": [
              "IPY_MODEL_b55fafe1680a4b6e8ae82b1ed18f9e20",
              "IPY_MODEL_18402150425b4b869deb7cb0a8d201e7"
            ]
          }
        },
        "4648ff5060d340ad8e58f70390df85af": {
          "model_module": "@jupyter-widgets/base",
          "model_name": "LayoutModel",
          "state": {
            "_view_name": "LayoutView",
            "grid_template_rows": null,
            "right": null,
            "justify_content": null,
            "_view_module": "@jupyter-widgets/base",
            "overflow": null,
            "_model_module_version": "1.2.0",
            "_view_count": null,
            "flex_flow": null,
            "width": null,
            "min_width": null,
            "border": null,
            "align_items": null,
            "bottom": null,
            "_model_module": "@jupyter-widgets/base",
            "top": null,
            "grid_column": null,
            "overflow_y": null,
            "overflow_x": null,
            "grid_auto_flow": null,
            "grid_area": null,
            "grid_template_columns": null,
            "flex": null,
            "_model_name": "LayoutModel",
            "justify_items": null,
            "grid_row": null,
            "max_height": null,
            "align_content": null,
            "visibility": null,
            "align_self": null,
            "height": null,
            "min_height": null,
            "padding": null,
            "grid_auto_rows": null,
            "grid_gap": null,
            "max_width": null,
            "order": null,
            "_view_module_version": "1.2.0",
            "grid_template_areas": null,
            "object_position": null,
            "object_fit": null,
            "grid_auto_columns": null,
            "margin": null,
            "display": null,
            "left": null
          }
        },
        "b55fafe1680a4b6e8ae82b1ed18f9e20": {
          "model_module": "@jupyter-widgets/controls",
          "model_name": "FloatProgressModel",
          "state": {
            "_view_name": "ProgressView",
            "style": "IPY_MODEL_a7982cd8e0074a1691af343b9ab14c58",
            "_dom_classes": [],
            "description": "Downloading: 100%",
            "_model_name": "FloatProgressModel",
            "bar_style": "success",
            "max": 466062,
            "_view_module": "@jupyter-widgets/controls",
            "_model_module_version": "1.5.0",
            "value": 466062,
            "_view_count": null,
            "_view_module_version": "1.5.0",
            "orientation": "horizontal",
            "min": 0,
            "description_tooltip": null,
            "_model_module": "@jupyter-widgets/controls",
            "layout": "IPY_MODEL_2df7a724df7249c58cd40218e2046b70"
          }
        },
        "18402150425b4b869deb7cb0a8d201e7": {
          "model_module": "@jupyter-widgets/controls",
          "model_name": "HTMLModel",
          "state": {
            "_view_name": "HTMLView",
            "style": "IPY_MODEL_756c68cfd51b4a15a7f3590ca8a6871f",
            "_dom_classes": [],
            "description": "",
            "_model_name": "HTMLModel",
            "placeholder": "​",
            "_view_module": "@jupyter-widgets/controls",
            "_model_module_version": "1.5.0",
            "value": " 466k/466k [06:52&lt;00:00, 1.13kB/s]",
            "_view_count": null,
            "_view_module_version": "1.5.0",
            "description_tooltip": null,
            "_model_module": "@jupyter-widgets/controls",
            "layout": "IPY_MODEL_b78c26eab70345e59959272979875444"
          }
        },
        "a7982cd8e0074a1691af343b9ab14c58": {
          "model_module": "@jupyter-widgets/controls",
          "model_name": "ProgressStyleModel",
          "state": {
            "_view_name": "StyleView",
            "_model_name": "ProgressStyleModel",
            "description_width": "initial",
            "_view_module": "@jupyter-widgets/base",
            "_model_module_version": "1.5.0",
            "_view_count": null,
            "_view_module_version": "1.2.0",
            "bar_color": null,
            "_model_module": "@jupyter-widgets/controls"
          }
        },
        "2df7a724df7249c58cd40218e2046b70": {
          "model_module": "@jupyter-widgets/base",
          "model_name": "LayoutModel",
          "state": {
            "_view_name": "LayoutView",
            "grid_template_rows": null,
            "right": null,
            "justify_content": null,
            "_view_module": "@jupyter-widgets/base",
            "overflow": null,
            "_model_module_version": "1.2.0",
            "_view_count": null,
            "flex_flow": null,
            "width": null,
            "min_width": null,
            "border": null,
            "align_items": null,
            "bottom": null,
            "_model_module": "@jupyter-widgets/base",
            "top": null,
            "grid_column": null,
            "overflow_y": null,
            "overflow_x": null,
            "grid_auto_flow": null,
            "grid_area": null,
            "grid_template_columns": null,
            "flex": null,
            "_model_name": "LayoutModel",
            "justify_items": null,
            "grid_row": null,
            "max_height": null,
            "align_content": null,
            "visibility": null,
            "align_self": null,
            "height": null,
            "min_height": null,
            "padding": null,
            "grid_auto_rows": null,
            "grid_gap": null,
            "max_width": null,
            "order": null,
            "_view_module_version": "1.2.0",
            "grid_template_areas": null,
            "object_position": null,
            "object_fit": null,
            "grid_auto_columns": null,
            "margin": null,
            "display": null,
            "left": null
          }
        },
        "756c68cfd51b4a15a7f3590ca8a6871f": {
          "model_module": "@jupyter-widgets/controls",
          "model_name": "DescriptionStyleModel",
          "state": {
            "_view_name": "StyleView",
            "_model_name": "DescriptionStyleModel",
            "description_width": "",
            "_view_module": "@jupyter-widgets/base",
            "_model_module_version": "1.5.0",
            "_view_count": null,
            "_view_module_version": "1.2.0",
            "_model_module": "@jupyter-widgets/controls"
          }
        },
        "b78c26eab70345e59959272979875444": {
          "model_module": "@jupyter-widgets/base",
          "model_name": "LayoutModel",
          "state": {
            "_view_name": "LayoutView",
            "grid_template_rows": null,
            "right": null,
            "justify_content": null,
            "_view_module": "@jupyter-widgets/base",
            "overflow": null,
            "_model_module_version": "1.2.0",
            "_view_count": null,
            "flex_flow": null,
            "width": null,
            "min_width": null,
            "border": null,
            "align_items": null,
            "bottom": null,
            "_model_module": "@jupyter-widgets/base",
            "top": null,
            "grid_column": null,
            "overflow_y": null,
            "overflow_x": null,
            "grid_auto_flow": null,
            "grid_area": null,
            "grid_template_columns": null,
            "flex": null,
            "_model_name": "LayoutModel",
            "justify_items": null,
            "grid_row": null,
            "max_height": null,
            "align_content": null,
            "visibility": null,
            "align_self": null,
            "height": null,
            "min_height": null,
            "padding": null,
            "grid_auto_rows": null,
            "grid_gap": null,
            "max_width": null,
            "order": null,
            "_view_module_version": "1.2.0",
            "grid_template_areas": null,
            "object_position": null,
            "object_fit": null,
            "grid_auto_columns": null,
            "margin": null,
            "display": null,
            "left": null
          }
        },
        "097112a85d6241d1aab4c32db799874b": {
          "model_module": "@jupyter-widgets/controls",
          "model_name": "HBoxModel",
          "state": {
            "_view_name": "HBoxView",
            "_dom_classes": [],
            "_model_name": "HBoxModel",
            "_view_module": "@jupyter-widgets/controls",
            "_model_module_version": "1.5.0",
            "_view_count": null,
            "_view_module_version": "1.5.0",
            "box_style": "",
            "layout": "IPY_MODEL_0d2c965927694d16a2762183d48df440",
            "_model_module": "@jupyter-widgets/controls",
            "children": [
              "IPY_MODEL_e4f6da59405c42288503da1d197d559c",
              "IPY_MODEL_fc879cae1cbc4dad916cf0549fd45d6f"
            ]
          }
        },
        "0d2c965927694d16a2762183d48df440": {
          "model_module": "@jupyter-widgets/base",
          "model_name": "LayoutModel",
          "state": {
            "_view_name": "LayoutView",
            "grid_template_rows": null,
            "right": null,
            "justify_content": null,
            "_view_module": "@jupyter-widgets/base",
            "overflow": null,
            "_model_module_version": "1.2.0",
            "_view_count": null,
            "flex_flow": null,
            "width": null,
            "min_width": null,
            "border": null,
            "align_items": null,
            "bottom": null,
            "_model_module": "@jupyter-widgets/base",
            "top": null,
            "grid_column": null,
            "overflow_y": null,
            "overflow_x": null,
            "grid_auto_flow": null,
            "grid_area": null,
            "grid_template_columns": null,
            "flex": null,
            "_model_name": "LayoutModel",
            "justify_items": null,
            "grid_row": null,
            "max_height": null,
            "align_content": null,
            "visibility": null,
            "align_self": null,
            "height": null,
            "min_height": null,
            "padding": null,
            "grid_auto_rows": null,
            "grid_gap": null,
            "max_width": null,
            "order": null,
            "_view_module_version": "1.2.0",
            "grid_template_areas": null,
            "object_position": null,
            "object_fit": null,
            "grid_auto_columns": null,
            "margin": null,
            "display": null,
            "left": null
          }
        },
        "e4f6da59405c42288503da1d197d559c": {
          "model_module": "@jupyter-widgets/controls",
          "model_name": "FloatProgressModel",
          "state": {
            "_view_name": "ProgressView",
            "style": "IPY_MODEL_acd2a681011d4e3c996625f5b37eee5e",
            "_dom_classes": [],
            "description": "Downloading: 100%",
            "_model_name": "FloatProgressModel",
            "bar_style": "success",
            "max": 28,
            "_view_module": "@jupyter-widgets/controls",
            "_model_module_version": "1.5.0",
            "value": 28,
            "_view_count": null,
            "_view_module_version": "1.5.0",
            "orientation": "horizontal",
            "min": 0,
            "description_tooltip": null,
            "_model_module": "@jupyter-widgets/controls",
            "layout": "IPY_MODEL_fcc0ffd4fa6f42fab93575c2972fbf05"
          }
        },
        "fc879cae1cbc4dad916cf0549fd45d6f": {
          "model_module": "@jupyter-widgets/controls",
          "model_name": "HTMLModel",
          "state": {
            "_view_name": "HTMLView",
            "style": "IPY_MODEL_561214cca4d147f4ac90db7e53902667",
            "_dom_classes": [],
            "description": "",
            "_model_name": "HTMLModel",
            "placeholder": "​",
            "_view_module": "@jupyter-widgets/controls",
            "_model_module_version": "1.5.0",
            "value": " 28.0/28.0 [00:00&lt;00:00, 169B/s]",
            "_view_count": null,
            "_view_module_version": "1.5.0",
            "description_tooltip": null,
            "_model_module": "@jupyter-widgets/controls",
            "layout": "IPY_MODEL_1c84c1fef04849aaaefec5e6b74c8212"
          }
        },
        "acd2a681011d4e3c996625f5b37eee5e": {
          "model_module": "@jupyter-widgets/controls",
          "model_name": "ProgressStyleModel",
          "state": {
            "_view_name": "StyleView",
            "_model_name": "ProgressStyleModel",
            "description_width": "initial",
            "_view_module": "@jupyter-widgets/base",
            "_model_module_version": "1.5.0",
            "_view_count": null,
            "_view_module_version": "1.2.0",
            "bar_color": null,
            "_model_module": "@jupyter-widgets/controls"
          }
        },
        "fcc0ffd4fa6f42fab93575c2972fbf05": {
          "model_module": "@jupyter-widgets/base",
          "model_name": "LayoutModel",
          "state": {
            "_view_name": "LayoutView",
            "grid_template_rows": null,
            "right": null,
            "justify_content": null,
            "_view_module": "@jupyter-widgets/base",
            "overflow": null,
            "_model_module_version": "1.2.0",
            "_view_count": null,
            "flex_flow": null,
            "width": null,
            "min_width": null,
            "border": null,
            "align_items": null,
            "bottom": null,
            "_model_module": "@jupyter-widgets/base",
            "top": null,
            "grid_column": null,
            "overflow_y": null,
            "overflow_x": null,
            "grid_auto_flow": null,
            "grid_area": null,
            "grid_template_columns": null,
            "flex": null,
            "_model_name": "LayoutModel",
            "justify_items": null,
            "grid_row": null,
            "max_height": null,
            "align_content": null,
            "visibility": null,
            "align_self": null,
            "height": null,
            "min_height": null,
            "padding": null,
            "grid_auto_rows": null,
            "grid_gap": null,
            "max_width": null,
            "order": null,
            "_view_module_version": "1.2.0",
            "grid_template_areas": null,
            "object_position": null,
            "object_fit": null,
            "grid_auto_columns": null,
            "margin": null,
            "display": null,
            "left": null
          }
        },
        "561214cca4d147f4ac90db7e53902667": {
          "model_module": "@jupyter-widgets/controls",
          "model_name": "DescriptionStyleModel",
          "state": {
            "_view_name": "StyleView",
            "_model_name": "DescriptionStyleModel",
            "description_width": "",
            "_view_module": "@jupyter-widgets/base",
            "_model_module_version": "1.5.0",
            "_view_count": null,
            "_view_module_version": "1.2.0",
            "_model_module": "@jupyter-widgets/controls"
          }
        },
        "1c84c1fef04849aaaefec5e6b74c8212": {
          "model_module": "@jupyter-widgets/base",
          "model_name": "LayoutModel",
          "state": {
            "_view_name": "LayoutView",
            "grid_template_rows": null,
            "right": null,
            "justify_content": null,
            "_view_module": "@jupyter-widgets/base",
            "overflow": null,
            "_model_module_version": "1.2.0",
            "_view_count": null,
            "flex_flow": null,
            "width": null,
            "min_width": null,
            "border": null,
            "align_items": null,
            "bottom": null,
            "_model_module": "@jupyter-widgets/base",
            "top": null,
            "grid_column": null,
            "overflow_y": null,
            "overflow_x": null,
            "grid_auto_flow": null,
            "grid_area": null,
            "grid_template_columns": null,
            "flex": null,
            "_model_name": "LayoutModel",
            "justify_items": null,
            "grid_row": null,
            "max_height": null,
            "align_content": null,
            "visibility": null,
            "align_self": null,
            "height": null,
            "min_height": null,
            "padding": null,
            "grid_auto_rows": null,
            "grid_gap": null,
            "max_width": null,
            "order": null,
            "_view_module_version": "1.2.0",
            "grid_template_areas": null,
            "object_position": null,
            "object_fit": null,
            "grid_auto_columns": null,
            "margin": null,
            "display": null,
            "left": null
          }
        },
        "8f8129131e0549e0a35c052f52f82337": {
          "model_module": "@jupyter-widgets/controls",
          "model_name": "HBoxModel",
          "state": {
            "_view_name": "HBoxView",
            "_dom_classes": [],
            "_model_name": "HBoxModel",
            "_view_module": "@jupyter-widgets/controls",
            "_model_module_version": "1.5.0",
            "_view_count": null,
            "_view_module_version": "1.5.0",
            "box_style": "",
            "layout": "IPY_MODEL_5cc03795a40443b98affda55402195ca",
            "_model_module": "@jupyter-widgets/controls",
            "children": [
              "IPY_MODEL_12c068b588a4461ea0f1f6cd6d920990",
              "IPY_MODEL_7b4d8265a282400da089b4b3da1e9b6b"
            ]
          }
        },
        "5cc03795a40443b98affda55402195ca": {
          "model_module": "@jupyter-widgets/base",
          "model_name": "LayoutModel",
          "state": {
            "_view_name": "LayoutView",
            "grid_template_rows": null,
            "right": null,
            "justify_content": null,
            "_view_module": "@jupyter-widgets/base",
            "overflow": null,
            "_model_module_version": "1.2.0",
            "_view_count": null,
            "flex_flow": null,
            "width": null,
            "min_width": null,
            "border": null,
            "align_items": null,
            "bottom": null,
            "_model_module": "@jupyter-widgets/base",
            "top": null,
            "grid_column": null,
            "overflow_y": null,
            "overflow_x": null,
            "grid_auto_flow": null,
            "grid_area": null,
            "grid_template_columns": null,
            "flex": null,
            "_model_name": "LayoutModel",
            "justify_items": null,
            "grid_row": null,
            "max_height": null,
            "align_content": null,
            "visibility": null,
            "align_self": null,
            "height": null,
            "min_height": null,
            "padding": null,
            "grid_auto_rows": null,
            "grid_gap": null,
            "max_width": null,
            "order": null,
            "_view_module_version": "1.2.0",
            "grid_template_areas": null,
            "object_position": null,
            "object_fit": null,
            "grid_auto_columns": null,
            "margin": null,
            "display": null,
            "left": null
          }
        },
        "12c068b588a4461ea0f1f6cd6d920990": {
          "model_module": "@jupyter-widgets/controls",
          "model_name": "FloatProgressModel",
          "state": {
            "_view_name": "ProgressView",
            "style": "IPY_MODEL_27c90a9d8d384011ba800c505a0ed64d",
            "_dom_classes": [],
            "description": "Batches: 100%",
            "_model_name": "FloatProgressModel",
            "bar_style": "success",
            "max": 4,
            "_view_module": "@jupyter-widgets/controls",
            "_model_module_version": "1.5.0",
            "value": 4,
            "_view_count": null,
            "_view_module_version": "1.5.0",
            "orientation": "horizontal",
            "min": 0,
            "description_tooltip": null,
            "_model_module": "@jupyter-widgets/controls",
            "layout": "IPY_MODEL_32b59447d9164632905eeff8301a9ef8"
          }
        },
        "7b4d8265a282400da089b4b3da1e9b6b": {
          "model_module": "@jupyter-widgets/controls",
          "model_name": "HTMLModel",
          "state": {
            "_view_name": "HTMLView",
            "style": "IPY_MODEL_e263d8e2a4c14854bc7b971ebcee87fa",
            "_dom_classes": [],
            "description": "",
            "_model_name": "HTMLModel",
            "placeholder": "​",
            "_view_module": "@jupyter-widgets/controls",
            "_model_module_version": "1.5.0",
            "value": " 4/4 [01:05&lt;00:00, 16.32s/it]",
            "_view_count": null,
            "_view_module_version": "1.5.0",
            "description_tooltip": null,
            "_model_module": "@jupyter-widgets/controls",
            "layout": "IPY_MODEL_01ecd5b876cc4b7eaa3436fddedc4398"
          }
        },
        "27c90a9d8d384011ba800c505a0ed64d": {
          "model_module": "@jupyter-widgets/controls",
          "model_name": "ProgressStyleModel",
          "state": {
            "_view_name": "StyleView",
            "_model_name": "ProgressStyleModel",
            "description_width": "initial",
            "_view_module": "@jupyter-widgets/base",
            "_model_module_version": "1.5.0",
            "_view_count": null,
            "_view_module_version": "1.2.0",
            "bar_color": null,
            "_model_module": "@jupyter-widgets/controls"
          }
        },
        "32b59447d9164632905eeff8301a9ef8": {
          "model_module": "@jupyter-widgets/base",
          "model_name": "LayoutModel",
          "state": {
            "_view_name": "LayoutView",
            "grid_template_rows": null,
            "right": null,
            "justify_content": null,
            "_view_module": "@jupyter-widgets/base",
            "overflow": null,
            "_model_module_version": "1.2.0",
            "_view_count": null,
            "flex_flow": null,
            "width": null,
            "min_width": null,
            "border": null,
            "align_items": null,
            "bottom": null,
            "_model_module": "@jupyter-widgets/base",
            "top": null,
            "grid_column": null,
            "overflow_y": null,
            "overflow_x": null,
            "grid_auto_flow": null,
            "grid_area": null,
            "grid_template_columns": null,
            "flex": null,
            "_model_name": "LayoutModel",
            "justify_items": null,
            "grid_row": null,
            "max_height": null,
            "align_content": null,
            "visibility": null,
            "align_self": null,
            "height": null,
            "min_height": null,
            "padding": null,
            "grid_auto_rows": null,
            "grid_gap": null,
            "max_width": null,
            "order": null,
            "_view_module_version": "1.2.0",
            "grid_template_areas": null,
            "object_position": null,
            "object_fit": null,
            "grid_auto_columns": null,
            "margin": null,
            "display": null,
            "left": null
          }
        },
        "e263d8e2a4c14854bc7b971ebcee87fa": {
          "model_module": "@jupyter-widgets/controls",
          "model_name": "DescriptionStyleModel",
          "state": {
            "_view_name": "StyleView",
            "_model_name": "DescriptionStyleModel",
            "description_width": "",
            "_view_module": "@jupyter-widgets/base",
            "_model_module_version": "1.5.0",
            "_view_count": null,
            "_view_module_version": "1.2.0",
            "_model_module": "@jupyter-widgets/controls"
          }
        },
        "01ecd5b876cc4b7eaa3436fddedc4398": {
          "model_module": "@jupyter-widgets/base",
          "model_name": "LayoutModel",
          "state": {
            "_view_name": "LayoutView",
            "grid_template_rows": null,
            "right": null,
            "justify_content": null,
            "_view_module": "@jupyter-widgets/base",
            "overflow": null,
            "_model_module_version": "1.2.0",
            "_view_count": null,
            "flex_flow": null,
            "width": null,
            "min_width": null,
            "border": null,
            "align_items": null,
            "bottom": null,
            "_model_module": "@jupyter-widgets/base",
            "top": null,
            "grid_column": null,
            "overflow_y": null,
            "overflow_x": null,
            "grid_auto_flow": null,
            "grid_area": null,
            "grid_template_columns": null,
            "flex": null,
            "_model_name": "LayoutModel",
            "justify_items": null,
            "grid_row": null,
            "max_height": null,
            "align_content": null,
            "visibility": null,
            "align_self": null,
            "height": null,
            "min_height": null,
            "padding": null,
            "grid_auto_rows": null,
            "grid_gap": null,
            "max_width": null,
            "order": null,
            "_view_module_version": "1.2.0",
            "grid_template_areas": null,
            "object_position": null,
            "object_fit": null,
            "grid_auto_columns": null,
            "margin": null,
            "display": null,
            "left": null
          }
        }
      }
    }
  },
  "cells": [
    {
      "cell_type": "markdown",
      "metadata": {
        "id": "view-in-github",
        "colab_type": "text"
      },
      "source": [
        "<a href=\"https://colab.research.google.com/github/Explorer9/miscellaneous/blob/main/Bert_embeddings_and_classification_of_sentences.ipynb\" target=\"_parent\"><img src=\"https://colab.research.google.com/assets/colab-badge.svg\" alt=\"Open In Colab\"/></a>"
      ]
    },
    {
      "cell_type": "code",
      "metadata": {
        "id": "wpt2g-3T9-gw"
      },
      "source": [
        "import pandas as pd\n",
        "import requests\n"
      ],
      "execution_count": 4,
      "outputs": []
    },
    {
      "cell_type": "markdown",
      "metadata": {
        "id": "DzxAS0wiV2-b"
      },
      "source": [
        "# Text cleaning( removing punctuations, stop words, lower casing, stemming, lemmatization)"
      ]
    },
    {
      "cell_type": "code",
      "metadata": {
        "id": "RuIN_ErsVHL_"
      },
      "source": [
        "def clean_text(listt):\n",
        "  from nltk.stem import PorterStemmer\n",
        "  import pandas as pd\n",
        "  import nltk\n",
        "  nltk.download('punkt')\n",
        "  from nltk.corpus import stopwords\n",
        "  nltk.download('stopwords')\n",
        "  from textblob import Word\n",
        "  nltk.download('wordnet')\n",
        "  stop = stopwords.words('english')\n",
        "  imdb_df=pd.DataFrame()\n",
        "  imdb_df['comment']=listt\n",
        "  imdb_df['after_punct_less'] = imdb_df['comment'].str.replace('[^\\w\\s].#','') \n",
        "  imdb_df['after_rm_stopwords'] =imdb_df['after_punct_less'].apply(lambda x: \" \".join(x for x in x.split() if x not in stop))\n",
        "  imdb_df['after_numerics']=imdb_df['after_rm_stopwords'].str.replace('[0-9]','')\n",
        "  imdb_df['after_lowercasing'] =imdb_df['after_numerics'].apply(lambda x: \" \".join(x.lower() for x in x.split()))\n",
        "  from nltk.stem import PorterStemmer\n",
        "  st = PorterStemmer()\n",
        "  imdb_df['after_stemming']=imdb_df['after_lowercasing'].apply(lambda x: \" \".join([st.stem(word) for word in x.split()]))\n",
        "  imdb_df['after_lemmatization'] = imdb_df['after_stemming'].apply(lambda x: \" \".join([Word(word).lemmatize() for word in x.split()]))\n",
        "  print(imdb_df['after_lemmatization'])\n",
        "  return (imdb_df['after_lemmatization']).tolist()"
      ],
      "execution_count": 93,
      "outputs": []
    },
    {
      "cell_type": "markdown",
      "metadata": {
        "id": "CXurcjZkPJNW"
      },
      "source": [
        "# BERT"
      ]
    },
    {
      "cell_type": "markdown",
      "metadata": {
        "id": "IwQ071zBQFIH"
      },
      "source": [
        "#1 short text data of 10days(Approx) from inshorts\n"
      ]
    },
    {
      "cell_type": "code",
      "metadata": {
        "id": "SkLmDweljkgS"
      },
      "source": [
        "!pip install hdbscan\n",
        "!pip install sentence_transformers\n",
        "!pip install umap-learn"
      ],
      "execution_count": null,
      "outputs": []
    },
    {
      "cell_type": "code",
      "metadata": {
        "colab": {
          "base_uri": "https://localhost:8080/",
          "height": 297
        },
        "id": "D8iHzbxDWxB3",
        "outputId": "f0540476-bfb9-47dc-95c3-71d527e03af0"
      },
      "source": [
        "data=pd.read_csv(\"/content/output - grantwatch(filtered).csv\")\n",
        "data.head(5)"
      ],
      "execution_count": 94,
      "outputs": [
        {
          "output_type": "execute_result",
          "data": {
            "text/html": [
              "<div>\n",
              "<style scoped>\n",
              "    .dataframe tbody tr th:only-of-type {\n",
              "        vertical-align: middle;\n",
              "    }\n",
              "\n",
              "    .dataframe tbody tr th {\n",
              "        vertical-align: top;\n",
              "    }\n",
              "\n",
              "    .dataframe thead th {\n",
              "        text-align: right;\n",
              "    }\n",
              "</style>\n",
              "<table border=\"1\" class=\"dataframe\">\n",
              "  <thead>\n",
              "    <tr style=\"text-align: right;\">\n",
              "      <th></th>\n",
              "      <th>Unnamed: 0</th>\n",
              "      <th>Eligibility</th>\n",
              "      <th>Name</th>\n",
              "      <th>Description</th>\n",
              "      <th>Link</th>\n",
              "      <th>Deadline</th>\n",
              "    </tr>\n",
              "  </thead>\n",
              "  <tbody>\n",
              "    <tr>\n",
              "      <th>0</th>\n",
              "      <td>0</td>\n",
              "      <td>0</td>\n",
              "      <td>Grants to Texas Nonprofits and Agencies \\nto P...</td>\n",
              "      <td>Grants of up to $10,000 to Texas nonprofit org...</td>\n",
              "      <td>https://texas.grantwatch.com//grant/176938/gra...</td>\n",
              "      <td>2012/1/20</td>\n",
              "    </tr>\n",
              "    <tr>\n",
              "      <th>1</th>\n",
              "      <td>1</td>\n",
              "      <td>0</td>\n",
              "      <td>Grants to USA, Canada, and International Civil...</td>\n",
              "      <td>Grants to USA, Canada, and International civil...</td>\n",
              "      <td>https://texas.grantwatch.com//grant/177422/gra...</td>\n",
              "      <td>2012/1/20</td>\n",
              "    </tr>\n",
              "    <tr>\n",
              "      <th>2</th>\n",
              "      <td>2</td>\n",
              "      <td>0</td>\n",
              "      <td>Prizes to USA PreK-12 Schools for Creative Rep...</td>\n",
              "      <td>Prizes to USA PreK-12 schools for imaginative ...</td>\n",
              "      <td>https://texas.grantwatch.com//grant/178027/pri...</td>\n",
              "      <td>2012/1/20</td>\n",
              "    </tr>\n",
              "    <tr>\n",
              "      <th>3</th>\n",
              "      <td>3</td>\n",
              "      <td>0</td>\n",
              "      <td>Grants to USA Nonprofits for Programming\\nto P...</td>\n",
              "      <td>Grants of up to $5,000 to USA nonprofit organi...</td>\n",
              "      <td>https://texas.grantwatch.com//grant/178677/gra...</td>\n",
              "      <td>2012/1/20</td>\n",
              "    </tr>\n",
              "    <tr>\n",
              "      <th>4</th>\n",
              "      <td>4</td>\n",
              "      <td>1</td>\n",
              "      <td>In-Kind Grant to a Lewisville, Texas Youth Gro...</td>\n",
              "      <td>In-kind grant of supplies valued at up to $500...</td>\n",
              "      <td>https://texas.grantwatch.com//grant/179965/in-...</td>\n",
              "      <td>2012/1/20</td>\n",
              "    </tr>\n",
              "  </tbody>\n",
              "</table>\n",
              "</div>"
            ],
            "text/plain": [
              "   Unnamed: 0  ...   Deadline\n",
              "0           0  ...  2012/1/20\n",
              "1           1  ...  2012/1/20\n",
              "2           2  ...  2012/1/20\n",
              "3           3  ...  2012/1/20\n",
              "4           4  ...  2012/1/20\n",
              "\n",
              "[5 rows x 6 columns]"
            ]
          },
          "metadata": {
            "tags": []
          },
          "execution_count": 94
        }
      ]
    },
    {
      "cell_type": "code",
      "metadata": {
        "colab": {
          "base_uri": "https://localhost:8080/"
        },
        "id": "evKCfCUmXONH",
        "outputId": "dd65c820-3607-4a1f-d8f7-65c797a792f2"
      },
      "source": [
        "text=data['Description']\n",
        "short_text=clean_text(text)"
      ],
      "execution_count": 95,
      "outputs": [
        {
          "output_type": "stream",
          "text": [
            "[nltk_data] Downloading package punkt to /root/nltk_data...\n",
            "[nltk_data]   Package punkt is already up-to-date!\n",
            "[nltk_data] Downloading package stopwords to /root/nltk_data...\n",
            "[nltk_data]   Package stopwords is already up-to-date!\n",
            "[nltk_data] Downloading package wordnet to /root/nltk_data...\n",
            "[nltk_data]   Package wordnet is already up-to-date!\n",
            "0     grant $, texa nonprofit organ govern agenc pro...\n",
            "1     grant usa, canada, intern civil societi organi...\n",
            "2     prize usa prek- school imagin use repurpos jui...\n",
            "3     grant $, usa nonprofit organ initi program pro...\n",
            "4     in-kind grant suppli valu $ lewisville, texa a...\n",
            "                            ...                        \n",
            "92    grant usa nonprofit organ program assist veter...\n",
            "93    grant usa scientist affili nonprofit organizat...\n",
            "94    grant $, usa, canada, intern nonprofit organ a...\n",
            "95    opportun usa univers qualifi educ institut hos...\n",
            "96    grant usa nonprofits, public school ihes, agen...\n",
            "Name: after_lemmatization, Length: 97, dtype: object\n"
          ],
          "name": "stdout"
        }
      ]
    },
    {
      "cell_type": "code",
      "metadata": {
        "colab": {
          "base_uri": "https://localhost:8080/"
        },
        "id": "6nK-owrc2ux1",
        "outputId": "67f60c88-9514-460e-d966-0536d8d6b7bc"
      },
      "source": [
        "short_text"
      ],
      "execution_count": 92,
      "outputs": [
        {
          "output_type": "execute_result",
          "data": {
            "text/plain": [
              "['grant $, texa nonprofit organ govern agenc promot local tourism opportunities. applic request contact program staff prior applying. fund may request activ involv preserv ar...',\n",
              " 'grant usa, canada, intern civil societi organizations, non-government organizations, independ constitut bodies, inter-government bodies, associations, organ project promot democraci around world. fund inte...',\n",
              " 'prize usa prek- school imagin use repurpos juic milk carton creat enhanc school garden. some prize award specif categori creativ arts, health nutrition, stem, environment stewardshi...',\n",
              " 'grant $, usa nonprofit organ initi program promot educ public dairi industry. the foundat three main focu areas: build skill dairi producers, creat next gener professio...',\n",
              " 'in-kind grant suppli valu $ lewisville, texa adult-sponsor youth group environment stewardship commun servic project. the project reflect one follow goals: litter prevention, beautif commun ...',\n",
              " 'grant usa nonprofit organ project benefit older american age above. fund intend advocaci project address polici issu nationwid follow states: florida, wisconsin, missouri, kentucky, iowa, indiana, il...',\n",
              " 'grant texa nonprofit organ wide rang commun benefit programs. fund intend support program project area healthcare, human services, educ benefit disadvantag communities. prefer given organiz...',\n",
              " 'grant $, per year usa small nonprofit art organ support gener operations. applic must submit letter inquiri prior applying. fund intend wide rang activities, initiatives, program promot art a...',\n",
              " 'grant averag $, texa nonprofit organ government agenc histor project across wide rang disciplines. interest applic requir contact staff prior applying. fund intend support project history...',\n",
              " 'grant usa nonprofit organ conduct appli research project direct immedi implic adult population, age older. fund intend research seek identifi practices, interventions, polici improv ...',\n",
              " 'grant usa nonprofit organ profession train educ project significantli focu staff work person age older. fund intend increas capac build expand skill knowledg employe s...',\n",
              " 'grant $, usa nonprofit organizations, agencies, educ institutions, tribe mainten conserv publicli access natur areas, parks, green spaces. fund intend address impact coronaviru (covid-...',\n",
              " 'grant usa, canada, intern organizations, groups, individu archiv project project benefit archiv field. applic requir submit loi prior submit full proposal. fund intend support archivist i...',\n",
              " 'grant usa nonprofits, for-profits, ihes, govern agenc strengthen qualiti stem educ gener public. fund intend broad rang project provid public access stem learning. elig propos must demo...',\n",
              " 'grant usa nonprofit ihe support scientif research develop lead market product servic benefit society. collabor industri entiti research strongli encouraged. requir registr may tak...',\n",
              " 'grant usa nonprofit organizations, govern agencies, tribal governments, ihe translat prepar human texts. the program encourag applic long-term short-term editori projects, well project plan...',\n",
              " 'grant usa nonprofit organizations, municipalities, ihes, tribal govern support coordin explor humanities-rel topics. applic advis requir registr may take sever week complete. fund intend produc bo...',\n",
              " 'grant usa nonprofit art organ oper support. organ small budget requir contact fund sourc prior submit proposal. fund intend support expand perform arts, particular focu theat...',\n",
              " 'grant $, usa, canada, intern research affili institut research area canin health. fund intend support innov research make impact prevent manag medic conditio...',\n",
              " 'cooper agreement usa nonprofit, for-profit, faith-bas entity, institut higher education, health research organization, foundation, tribal entiti improv health servic rural areas. applic advis requir registr may ta...',\n",
              " 'grant usa nonprofit organizations, govern agencies, tribes, educ institut restor manag longleaf pine ecosystem elig states. the purpos program enhanc expand manag restor effort a...',\n",
              " 'grant $, usa nonprofit organizations, ihes, tribes, govern agenc enhanc care conserv noteworthi human collections. fund intend help institut focus human museums, libraries, histo...',\n",
              " 'grant usa nonprofit program significantli assist individu commun impact poverty, particularli wake coronaviru (covid-) pandemic. fund intend activ focus educ levels, econom development, ...',\n",
              " 'grant cooper agreement usa watersh group multipl state territori project manag protect natur resources. requir registr must complet prior submit application. elig applic locat alaska, ar...',\n",
              " 'grant $, usa nonprofit theater compani perform educ activ high school middl school students. applic must submit intent appli prior submit application. fund intend support profession produc...',\n",
              " 'grant $, usa nonprofit organ theater compani provid shakespear theater educ program juvenil offenders. applic must submit intent appli prior submit application. applic advis requir ...',\n",
              " 'grant usa nonprofit organizations, agencies, tribes, ihe preserv project protect signific materi collections. applic advis requir pre-appl registr may take one month complete. the purpos the...',\n",
              " 'grant usa nonprofit organ support bereav youth famili coronaviru (covid-) pandemic. fund intend cover gener oper expens organ provid bereav servic child age . p...',\n",
              " 'grant usa hispanic-serv ihe project enhanc undergradu educ hispan popul stem disciplines. fund intend increas number student studi graduat major minor stem field increas pre...',\n",
              " 'in-kind resourc valu $, usa territori school school district promot innov stimul stem learn program students. the purpos program provid school resourc develop onlin comput gaming...',\n",
              " 'grant in-kind support louisiana texa nonprofit organ elig area enhanc live local residents. focu area includ health, education, hunger. elig applic organ involv area art culture, comm...',\n",
              " 'grant $, usa agricultur profession work farmer rancher multipl state territori farm-bas research market project address sustain agriculture. grant emphas build relationship farmer...',\n",
              " 'grant usa nonprofit organ tribal govern support activ promot justic liberation. applic seek multi-year grant must contact program staff prior applying. fund intend organ activ responding...',\n",
              " 'grant $, usa, canada, intern nonprofit organ project encourag intern scholarship relat american art topics. applic must submit loi prior submit full application. fund also support scholar...',\n",
              " \"grant usa nonprofit organ univers scholarli research public polici issu impact person econom liberti nation' citizens. fund intend support scholarship lead public polici papers,...\",\n",
              " 'award usa canada academ librari recognit collabor effort personnel serv commun creativ innov ways. the award intend honor staff display leadership program work togeth uphold t...',\n",
              " 'grant usa nonprofit organ hands-on educ program teach young peopl vehicl boat restoration. prioriti given program focu high school college-ag students. fund intend teach special skill...',\n",
              " 'grant usa intern investig medical, academic, research institut pediatr cancer research. applic must submit loi prior submit full application. fund intend investig prevention, cause, treatment...',\n",
              " \"grant $, usa, canada, intern institut higher educ develop offer cours relat holocaust. fund may also use improv institution' holocaust resources. propos colleg univers cour...\",\n",
              " 'grant $, usa canada nonprofit organizations, institutions, associ project benefit serv individu affect spinal cord diseas injuries, includ veterans. fund intend project potenti t...',\n",
              " 'in-kind grant usa public nonprofit health care provid telehealth servic particip patients. prioriti given project benefit veteran low-incom populations. applic advis requir registr may take sever week...',\n",
              " 'grant usa territori health nurs center clinics, hospitals, nurs schools, nonprofit organizations, cbos, faith-bas organizations, tribal entiti provid improv care servic survivor assault. applic advis r...',\n",
              " 'grant $, fellowship $, per year usa, canada, intern investig scientist academic, medical, research institut research relat central auditori process disord (capd). applic must submit ...',\n",
              " 'grant usa territori princip investig affili nonprofits, ihes, for-profits, local, state, tribal governments, school districts, organ research project tobacco regulations. requir registr may take sever week to...',\n",
              " 'grant usa agencies, tribal governments, educ institutions, nonprofit organ plan, interpret, protect locat histor american battles. applic advis requir registr may take sever week finalize. fund ...',\n",
              " 'grant usa state improv health care servic elig area throughout country. applic advis requir registr may take one month complete. in addit improv health infrastructure, fund may use activit...',\n",
              " 'grant usa isra scientist affili nonprofit organizations, includ ihes, govern research institutions, hospit carri cooper research across broad rang scientif disciplines. fund intend support research proje...',\n",
              " 'grant texas, new mexico, mexico nonprofit organizations, government agencies, church elig region program advanc health well local residents. applic requir submit letter intent prior submit ful...',\n",
              " 'cooper agreement usa nonprofit organizations, state local governments, ihe pilot project verifi effect health, safety, energi procedur lower-incom households. applic advis requir registr may take...',\n",
              " 'grant $, usa, canada, intern investig affili institut research project advanc canin health. fund intend support research focus cardiac disord dogs. elig project must scien...',\n",
              " 'in-kind servic usa nonprofit healthcar centers, medic schools, local health depart agencies, hospitals, consortium improv internet connect enhanc deliveri services. fund intend increas effici health-relate...',\n",
              " 'in-kind servic usa nonprofit healthcar centers, medic schools, local health depart agencies, hospitals, consortium improv upgrad commun technology. fund intend support health servic provid improv abil to...',\n",
              " 'grant usa, canada, intern nonprofit organizations, govern agencies, for-profit organizations, educ organ air qualiti research. applic must submit preliminari applic appli full. fund intend re...',\n",
              " 'grant usa territori state, local, tribal agencies, ihes, farm cooperatives, agricultur produc environment projects. applic advis requir registr may take sever week complete. fund intend rang of...',\n",
              " 'grant usa nonprofit organ elig locat social chang initiatives. fund intend benefit jewish woman girls. focu area includ education, econom empowerment, advocacy, social justice, violenc prevention. program serv wo...',\n",
              " 'grant usa territori for-profit nonprofit entiti improv deliveri social health servic underserv populations. applic advis requir registr may take one month complete. fund intend promot rur...',\n",
              " 'grant usa nonprofit for-profit organizations, govern agencies, tribal entiti increas avail internet servic rural commun throughout country. applic advis requir registr must complet prior a...',\n",
              " 'grant usa territori public agenc nonprofit organ address social justic inequ health field. applic requir submit letter intent prior full application. the program intend gather evid raci...',\n",
              " 'grant $, in-kind support usa librari small rural commun address commun issues, includ coronavirus. the goal program prepar librari worker expand role libraries. fund intend assist librari...',\n",
              " 'cooper agreement usa nonprofit, ihe, tribe, agency, hospit research health human servic relat non-urban commun across nation. applic advis requir registr may take month complete. research ...',\n",
              " 'grant usa territori ihe medic certif program expand develop behavior health workforce. applic advis requir registr may take sever week complete. fund intend provid patient greater access to...',\n",
              " 'grant usa institut higher educ promot diver public health health care. applic advis requir registr may take one month complete. fund intend encourag student underserv underrepresented...',\n",
              " 'competit usa ihes, tribes, agencies, nonprofit develop creativ and/or technolog solut keep busi function covid- (coronavirus) health crisis. applic advis requir registr may take sever week com...',\n",
              " \"grant usa, canada, intern academ center support fellowship program neurologists. grant fund may use fellows' stipends, benefits, travel. fellowship intend increas number train specialist area parkin...\",\n",
              " 'grant usa public privat institut higher educ provid research train elig individuals. applic advis requir registr may take sever day complete. fund intend program relat disabl and...',\n",
              " 'grant usa institut higher educ research train program elig disciplines. applic advis requir registr may take sever day complete. fund intend support project offer phd qualifie...',\n",
              " 'grant usa privat public institut higher educ provid research experi train elig individuals. applic advis requir registr may take sever day complete. fund intend program rehabi...',\n",
              " 'grant usa, canada, intern ihes, agencies, nonprofits, for-profit research project relat use pharmaceut child pregnant women. applic advis requir registr may take sever week complete. fund...',\n",
              " 'grant usa, canada, intern agencies, for-profits, ihes, nonprofit new research develop better pharmaceut child pregnant women. applic advis requir registr may take sever week complete. fund in...',\n",
              " 'grant usa schools, govern agencies, tribal organizations, nonprofit organizations, agricultur produc program increas access local food elig schools. applic advis requir registr may take three week complet...',\n",
              " 'grant usa territori nonprofit organizations, for-profits, educ institutions, individuals, other project optim energi effici build throughout country. a concept paper requir prior submit full proposal. in a...',\n",
              " 'cooper agreement usa nonprofit organization, for-profit, tribe, faith-bas organization, ihe, agency, hospit improv rural health care. applic advis requir registr may take month finalize. the program intend ...',\n",
              " 'grant usa nonprofit for-profit organizations, agencies, tribal governments, ihe develop technolog procedur help promot self-suffici individu disabilities. special emphasi place individu sever disabilities. f...',\n",
              " 'cooper agreement usa nonprofit for-profit entities, community-bas faith-bas organizations, tribe administ technolog polici assist provid remot health services. applic advis requir registr may take...',\n",
              " 'grant usa nonprofit for-profit organizations, agencies, tribal governments, ihe research project integr inclus individu disabilities. fund intend research activ address issu famili support,...',\n",
              " 'grant $, in-kind support usa territori nonprofit organizations, govern agencies, tribe host commun event promot reading. fund intend event provid discus creativ activ center around sp...',\n",
              " 'cooper agreement usa puerto rico agencies, nonprofit for-profit organizations, tribal entities, ihe project improv treatment individu blood disorders. applic advis requir registr may take month ...',\n",
              " 'grant medic data access usa territori organ research rang topics. applic requir submit brief propos prior submit full proposal. prefer given tax-exempt public entiti nonprofit organizat...',\n",
              " 'grant $, usa territori tribal govern nonprofit organ econom develop infrastructur building. the purpos program support self-direct well-resourc food systems. fund intend help stre...',\n",
              " 'cooper agreement usa nonprofit for-profit entities, community-bas faith-bas organizations, tribe develop provid remot health services. applic advis requir registr may take one month complete. fund is...',\n",
              " 'grant usa states, nonprofit organizations, govern agencies, tribes, ihe employ volunt staff carri broad rang commun services. applic must complet requir registr prior submit application. fund avail ...',\n",
              " 'grant $, usa nonprofit organizations, govern agencies, tribes, educ institut build commun capac protect natur resources. fund intend support rang local partnership work enhanc water quality, wa...',\n",
              " 'grant $, usa territori nonprofit cultural, academic, research institutions, govern agencies, indian tribe preserv signific audio video media. fund intend support digit reformat medium fragil...',\n",
              " 'opportun particip contest usa, canada, intern organ institut effect solut water contamination. win entrant receiv prize $,, $,, $,. elig solut address behavior contr...',\n",
              " 'grant $, usa, canada, intern individu nonprofit organ research project woman photographi worldwid western american photographi . applic judg signific project th...',\n",
              " 'grant usa, canada, intern nonprofit organ social enterpris health fit initiatives. fund intend project topic address healthi aging, mental well-being, prevent non-communic diseases, mobility...',\n",
              " 'grant usa conserv group local state agenc land conserv project near militari installations. applic must contact program staff submit pre-propos prior applying. fund intend limit incompat land develop near...',\n",
              " 'grant texa nonprofit organizations, special districts, govern entiti elig area charit program project enhanc qualiti life local residents. prioriti fund intend support community-focus activ ser...',\n",
              " 'grant usa intern organ program benefit current former firefighters, ems, paramedics, polic officers, families. applic requir submit loi prior submit full proposal. fund intend expans...',\n",
              " 'grant $, usa ihe collabor project knowledg understand religion among journal students, departments, professionals. fund intend foster innov scholarli project explor religion huma...',\n",
              " 'in-kind technolog support usa, canada, intern k- school accredit institut higher educ implement school-wid mobil application. grant recipi receiv software, licenses, support provid comprehens servic ...',\n",
              " 'in-kind donat usa institut higher educ softwar servic provid manag account identif student staff. the opportun intend help autom onboard offboard computer program wh...',\n",
              " 'grant usa nonprofit organ program assist veterans, militari servic members, families. prioriti given program address homeless prevention, hous support, financi assistance, hunger relief, case management, in...',\n",
              " 'grant usa scientist affili nonprofit organizations, ihes, for-profit organizations, govern agenc includ school district collabor research project israel research partners. fund intend support partnership i...',\n",
              " 'grant $, usa, canada, intern nonprofit organ address issu antisemit across globe. applic must submit letter intent applying. fund intend support develop creative, grassroots, a...',\n",
              " 'opportun usa univers qualifi educ institut host stem summer program students. program provid mentor laboratori research experi elig high school students. host institut respons progr...',\n",
              " 'grant usa nonprofits, public school ihes, agencies, hospitals, indian tribal govern program benefit medic scientif community, public health, patients. request must consist technolog therapeut area wh...']"
            ]
          },
          "metadata": {
            "tags": []
          },
          "execution_count": 92
        }
      ]
    },
    {
      "cell_type": "code",
      "metadata": {
        "id": "OMI9RmlRACQ3"
      },
      "source": [
        "def bertt(documents):\n",
        "  import pandas as pd\n",
        "  import umap\n",
        "  import hdbscan\n",
        "  import matplotlib.pyplot as plt\n",
        "  from sentence_transformers import SentenceTransformer\n",
        "  import numpy as np\n",
        "  from sklearn.feature_extraction.text import CountVectorizer\n",
        "\n",
        "  model = SentenceTransformer('distilbert-base-nli-mean-tokens')\n",
        "  embeddings = model.encode(documents, show_progress_bar=True)\n",
        "  return embeddings"
      ],
      "execution_count": 60,
      "outputs": []
    },
    {
      "cell_type": "code",
      "metadata": {
        "colab": {
          "base_uri": "https://localhost:8080/",
          "height": 359,
          "referenced_widgets": [
            "3889f3c5268f49ca983e132c972f0e3f",
            "a37450fe163548b6a7e8825b00094036",
            "5e85d0b61dc64b8990266238d965aad8",
            "f1888d53487a4d4193e826d03138077e",
            "30c8ad3be00240f3a839ca139e7fcddb",
            "91b016fbd36e481e9cc1d352332f3690",
            "bd70282c8588480db3f656fa5767afcb",
            "a714df62ca5b4802b0f7be822b2891b7",
            "704e656687fe477c885996d408fea3d6",
            "279aa6d454484ee0bec80d8f5301f57b",
            "da8167e4102e4983ab07532d3f425f88",
            "bafe351f0a424523b1a8a66f792fea92",
            "cb59938221ac474e86933792b7a36b6a",
            "8d43b08f4ee94691a60c11c2730c5679",
            "290c24a60da94b15a9f496c259e0bc09",
            "89f215042b47408c98364e6c95afaeb7",
            "5724e0ff65584f238a6a767e86059d82",
            "87cccf384acf40b8b33516b953fc4037",
            "fb00173599124d98b0924a94ed3fec8c",
            "fb354a899f9e4330ac3256e65d8d0c32",
            "2154a558a7e8418fbb76641a93c42151",
            "be1bc014114746269cf070caa7463091",
            "3c981a07202e48b8a1d7aa3e15393256",
            "7fc80ec41871403b85db5343bd9c25df",
            "c2c78f4416e04a6f8f0ad366479c124f",
            "4648ff5060d340ad8e58f70390df85af",
            "b55fafe1680a4b6e8ae82b1ed18f9e20",
            "18402150425b4b869deb7cb0a8d201e7",
            "a7982cd8e0074a1691af343b9ab14c58",
            "2df7a724df7249c58cd40218e2046b70",
            "756c68cfd51b4a15a7f3590ca8a6871f",
            "b78c26eab70345e59959272979875444",
            "097112a85d6241d1aab4c32db799874b",
            "0d2c965927694d16a2762183d48df440",
            "e4f6da59405c42288503da1d197d559c",
            "fc879cae1cbc4dad916cf0549fd45d6f",
            "acd2a681011d4e3c996625f5b37eee5e",
            "fcc0ffd4fa6f42fab93575c2972fbf05",
            "561214cca4d147f4ac90db7e53902667",
            "1c84c1fef04849aaaefec5e6b74c8212",
            "8f8129131e0549e0a35c052f52f82337",
            "5cc03795a40443b98affda55402195ca",
            "12c068b588a4461ea0f1f6cd6d920990",
            "7b4d8265a282400da089b4b3da1e9b6b",
            "27c90a9d8d384011ba800c505a0ed64d",
            "32b59447d9164632905eeff8301a9ef8",
            "e263d8e2a4c14854bc7b971ebcee87fa",
            "01ecd5b876cc4b7eaa3436fddedc4398"
          ]
        },
        "id": "UwJpJm6e5Cdd",
        "outputId": "f1d925cc-eff7-4a7d-bc9f-57c3b4874bb3"
      },
      "source": [
        "X=bertt(short_text)\n",
        "y=data['Eligibility']"
      ],
      "execution_count": 61,
      "outputs": [
        {
          "output_type": "stream",
          "text": [
            "Exception when trying to download http://sbert.net/models/bert-base-uncased.zip. Response 404\n",
            "SentenceTransformer-Model http://sbert.net/models/bert-base-uncased.zip not found. Try to create it from scratch\n",
            "Try to create Transformer Model bert-base-uncased with mean pooling\n"
          ],
          "name": "stderr"
        },
        {
          "output_type": "display_data",
          "data": {
            "application/vnd.jupyter.widget-view+json": {
              "model_id": "3889f3c5268f49ca983e132c972f0e3f",
              "version_minor": 0,
              "version_major": 2
            },
            "text/plain": [
              "HBox(children=(FloatProgress(value=0.0, description='Downloading', max=433.0, style=ProgressStyle(description_…"
            ]
          },
          "metadata": {
            "tags": []
          }
        },
        {
          "output_type": "stream",
          "text": [
            "\n"
          ],
          "name": "stdout"
        },
        {
          "output_type": "display_data",
          "data": {
            "application/vnd.jupyter.widget-view+json": {
              "model_id": "704e656687fe477c885996d408fea3d6",
              "version_minor": 0,
              "version_major": 2
            },
            "text/plain": [
              "HBox(children=(FloatProgress(value=0.0, description='Downloading', max=440473133.0, style=ProgressStyle(descri…"
            ]
          },
          "metadata": {
            "tags": []
          }
        },
        {
          "output_type": "stream",
          "text": [
            "\n"
          ],
          "name": "stdout"
        },
        {
          "output_type": "display_data",
          "data": {
            "application/vnd.jupyter.widget-view+json": {
              "model_id": "5724e0ff65584f238a6a767e86059d82",
              "version_minor": 0,
              "version_major": 2
            },
            "text/plain": [
              "HBox(children=(FloatProgress(value=0.0, description='Downloading', max=231508.0, style=ProgressStyle(descripti…"
            ]
          },
          "metadata": {
            "tags": []
          }
        },
        {
          "output_type": "stream",
          "text": [
            "\n"
          ],
          "name": "stdout"
        },
        {
          "output_type": "display_data",
          "data": {
            "application/vnd.jupyter.widget-view+json": {
              "model_id": "c2c78f4416e04a6f8f0ad366479c124f",
              "version_minor": 0,
              "version_major": 2
            },
            "text/plain": [
              "HBox(children=(FloatProgress(value=0.0, description='Downloading', max=466062.0, style=ProgressStyle(descripti…"
            ]
          },
          "metadata": {
            "tags": []
          }
        },
        {
          "output_type": "stream",
          "text": [
            "\n"
          ],
          "name": "stdout"
        },
        {
          "output_type": "display_data",
          "data": {
            "application/vnd.jupyter.widget-view+json": {
              "model_id": "097112a85d6241d1aab4c32db799874b",
              "version_minor": 0,
              "version_major": 2
            },
            "text/plain": [
              "HBox(children=(FloatProgress(value=0.0, description='Downloading', max=28.0, style=ProgressStyle(description_w…"
            ]
          },
          "metadata": {
            "tags": []
          }
        },
        {
          "output_type": "stream",
          "text": [
            "\n"
          ],
          "name": "stdout"
        },
        {
          "output_type": "display_data",
          "data": {
            "application/vnd.jupyter.widget-view+json": {
              "model_id": "8f8129131e0549e0a35c052f52f82337",
              "version_minor": 0,
              "version_major": 2
            },
            "text/plain": [
              "HBox(children=(FloatProgress(value=0.0, description='Batches', max=4.0, style=ProgressStyle(description_width=…"
            ]
          },
          "metadata": {
            "tags": []
          }
        },
        {
          "output_type": "stream",
          "text": [
            "\n"
          ],
          "name": "stdout"
        }
      ]
    },
    {
      "cell_type": "code",
      "metadata": {
        "id": "KTVo7u0Z5E6k"
      },
      "source": [
        "from sklearn.linear_model import LogisticRegression\n",
        "from sklearn.naive_bayes import GaussianNB\n",
        "from sklearn.model_selection import train_test_split\n",
        "from sklearn import tree\n",
        "from sklearn.metrics import accuracy_score\n",
        "X_train, X_test, y_train, y_test = train_test_split(X, y, test_size=0.2, random_state=42)\n",
        "clf_log = LogisticRegression(random_state=0).fit(X_train, y_train)\n",
        "clf_gaussian=GaussianNB().fit(X_train,y_train)\n",
        "clf_tree=tree.DecisionTreeClassifier(max_depth=600).fit(X_train,y_train)\n",
        "\n"
      ],
      "execution_count": 62,
      "outputs": []
    },
    {
      "cell_type": "code",
      "metadata": {
        "id": "AXNnKjktp9Lq"
      },
      "source": [
        "y_pred_log=clf_log.predict(X_test)\n",
        "y_pred_gaussian=clf_gaussian.predict(X_test)\n",
        "y_pred_tree=clf_tree.predict(X_test)"
      ],
      "execution_count": 63,
      "outputs": []
    },
    {
      "cell_type": "code",
      "metadata": {
        "colab": {
          "base_uri": "https://localhost:8080/"
        },
        "id": "9PIKJssoqLvm",
        "outputId": "f43d5af1-7735-4fe7-b750-b69947e96e78"
      },
      "source": [
        "print(accuracy_score(y_pred_log,y_test))\n",
        "print(accuracy_score(y_pred_gaussian,y_test))\n",
        "print(accuracy_score(y_pred_tree,y_test))\n"
      ],
      "execution_count": 64,
      "outputs": [
        {
          "output_type": "stream",
          "text": [
            "0.65\n",
            "0.55\n",
            "0.3\n"
          ],
          "name": "stdout"
        }
      ]
    },
    {
      "cell_type": "code",
      "metadata": {
        "id": "T7izYnLowrL7"
      },
      "source": [
        "X_train[2]"
      ],
      "execution_count": null,
      "outputs": []
    },
    {
      "cell_type": "code",
      "metadata": {
        "id": "4KgUiF9JyZ8J"
      },
      "source": [
        "from nltk.tokenize import sent_tokenize, word_tokenize\n",
        "import warnings\n",
        "  \n",
        "warnings.filterwarnings(action = 'ignore')\n",
        "  \n",
        "import gensim\n",
        "from gensim.models import Word2Vec"
      ],
      "execution_count": 66,
      "outputs": []
    },
    {
      "cell_type": "code",
      "metadata": {
        "id": "D3gvyDuUyhTF"
      },
      "source": [
        "model= gensim.models.Word2Vec(short_text, min_count = 1,window = 5)"
      ],
      "execution_count": 83,
      "outputs": []
    },
    {
      "cell_type": "code",
      "metadata": {
        "id": "-I0ybl5t1AKU"
      },
      "source": [
        "words = list(model2.wv.vocab)"
      ],
      "execution_count": 84,
      "outputs": []
    },
    {
      "cell_type": "code",
      "metadata": {
        "colab": {
          "base_uri": "https://localhost:8080/"
        },
        "id": "OidqgFGh1LNe",
        "outputId": "c436eb1f-64a4-45c6-91ee-7f7870369295"
      },
      "source": [
        "words"
      ],
      "execution_count": 86,
      "outputs": [
        {
          "output_type": "execute_result",
          "data": {
            "text/plain": [
              "['g',\n",
              " 'r',\n",
              " 'a',\n",
              " 'n',\n",
              " 't',\n",
              " 's',\n",
              " ' ',\n",
              " '$',\n",
              " ',',\n",
              " 'e',\n",
              " 'x',\n",
              " 'o',\n",
              " 'p',\n",
              " 'f',\n",
              " 'i',\n",
              " 'z',\n",
              " 'v',\n",
              " 'm',\n",
              " 'c',\n",
              " 'l',\n",
              " 'u',\n",
              " '.',\n",
              " 'q',\n",
              " 'd',\n",
              " 'y',\n",
              " '-',\n",
              " 'b',\n",
              " 'j',\n",
              " 'w',\n",
              " 'k',\n",
              " 'h',\n",
              " ':',\n",
              " '(',\n",
              " ')',\n",
              " \"'\",\n",
              " '/']"
            ]
          },
          "metadata": {
            "tags": []
          },
          "execution_count": 86
        }
      ]
    },
    {
      "cell_type": "code",
      "metadata": {
        "id": "LXzMNJJb1tJI"
      },
      "source": [
        ""
      ],
      "execution_count": null,
      "outputs": []
    }
  ]
}